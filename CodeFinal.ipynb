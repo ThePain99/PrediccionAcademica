{
  "cells": [
    {
      "cell_type": "markdown",
      "metadata": {
        "id": "view-in-github",
        "colab_type": "text"
      },
      "source": [
        "<a href=\"https://colab.research.google.com/github/ThePain99/PrediccionAcademica/blob/master/CodeFinal.ipynb\" target=\"_parent\"><img src=\"https://colab.research.google.com/assets/colab-badge.svg\" alt=\"Open In Colab\"/></a>"
      ]
    },
    {
      "cell_type": "code",
      "execution_count": null,
      "metadata": {
        "id": "30py_0FMUPdf"
      },
      "outputs": [],
      "source": [
        "import pandas as pd\n",
        "import numpy as np\n",
        "import tensorflow as tf\n",
        "import matplotlib.pyplot as plt\n",
        "from sklearn.model_selection import train_test_split\n",
        "from tensorflow.keras.callbacks import EarlyStopping"
      ]
    },
    {
      "cell_type": "code",
      "execution_count": null,
      "metadata": {
        "id": "g5GX1s-2UWp5"
      },
      "outputs": [],
      "source": [
        "from google.colab import files\n",
        "uploaded = files.upload()\n",
        "\n",
        "df1 = pd.read_excel('dataset.xlsx', sheet_name='Primero')\n",
        "df2 = pd.read_excel('dataset.xlsx', sheet_name='Segundo')\n",
        "\n",
        "nombres_cursos = df1.columns.tolist()\n"
      ]
    },
    {
      "cell_type": "markdown",
      "metadata": {
        "id": "XcD3qRl5wW6m"
      },
      "source": [
        "##Visualizacion de Datos"
      ]
    },
    {
      "cell_type": "code",
      "execution_count": null,
      "metadata": {
        "id": "TgC2lacywdhF"
      },
      "outputs": [],
      "source": [
        "df1"
      ]
    },
    {
      "cell_type": "code",
      "execution_count": null,
      "metadata": {
        "id": "EPRl1LA2uOnS"
      },
      "outputs": [],
      "source": [
        "df2"
      ]
    },
    {
      "cell_type": "markdown",
      "metadata": {
        "id": "R3chyUVltLrc"
      },
      "source": []
    },
    {
      "cell_type": "markdown",
      "metadata": {
        "id": "9YY8qUHVW6zy"
      },
      "source": [
        "##Preprocesamiento de datos"
      ]
    },
    {
      "cell_type": "code",
      "execution_count": null,
      "metadata": {
        "id": "kxK_Qj3xW6HI"
      },
      "outputs": [],
      "source": [
        "df1.isnull()"
      ]
    },
    {
      "cell_type": "code",
      "execution_count": null,
      "metadata": {
        "id": "wjPYZ1uEwC9X"
      },
      "outputs": [],
      "source": [
        "df2.isnull()"
      ]
    },
    {
      "cell_type": "code",
      "execution_count": null,
      "metadata": {
        "id": "1IBvoFB7Ugd7"
      },
      "outputs": [],
      "source": [
        "df1.isnull().sum()"
      ]
    },
    {
      "cell_type": "code",
      "execution_count": null,
      "metadata": {
        "id": "lgryySUPwE-L"
      },
      "outputs": [],
      "source": [
        "df2.isnull().sum()"
      ]
    },
    {
      "cell_type": "code",
      "execution_count": null,
      "metadata": {
        "id": "gs7WzWykUcfj"
      },
      "outputs": [],
      "source": [
        "df1.fillna(0, inplace=True)\n",
        "df1 = df1.apply(pd.to_numeric, errors='coerce')\n",
        "df1.fillna(0, inplace=True)"
      ]
    },
    {
      "cell_type": "code",
      "execution_count": null,
      "metadata": {
        "id": "kJ-jK8ViwGD4"
      },
      "outputs": [],
      "source": [
        "df2.fillna(0, inplace=True)\n",
        "df2 = df2.apply(pd.to_numeric, errors='coerce')\n",
        "df2.fillna(0, inplace=True)"
      ]
    },
    {
      "cell_type": "markdown",
      "metadata": {
        "id": "KgG_clfVwgDo"
      },
      "source": [
        "##Construcción del Modelo"
      ]
    },
    {
      "cell_type": "code",
      "execution_count": null,
      "metadata": {
        "id": "oCJgzXxDXSDN"
      },
      "outputs": [],
      "source": [
        "x = df1[nombres_cursos].values\n",
        "y = df2[nombres_cursos].values"
      ]
    },
    {
      "cell_type": "code",
      "execution_count": null,
      "metadata": {
        "id": "W_4M4lfWvNcl"
      },
      "outputs": [],
      "source": [
        "X_train, X_test, y_train, y_test = train_test_split(x, y, test_size=0.2, random_state=42)"
      ]
    },
    {
      "cell_type": "code",
      "execution_count": null,
      "metadata": {
        "id": "IUDmhOoXu1hX"
      },
      "outputs": [],
      "source": [
        "model = tf.keras.Sequential([\n",
        "    tf.keras.layers.Dense(8, activation='relu', input_shape=(10,)),  # Capa de entrada con 9 neuronas de entrada (notas cursos anteriores)\n",
        "    tf.keras.layers.Dense(32, activation='relu'),\n",
        "    tf.keras.layers.Dense(64, activation='relu'),\n",
        "    tf.keras.layers.Dense(128, activation='relu'),\n",
        "    tf.keras.layers.Dense(64, activation='relu'),\n",
        "    tf.keras.layers.Dense(32, activation='relu'),\n",
        "    tf.keras.layers.Dense(10)  # Capa de salida con 9 neuronas (notas cursos siguientes)\n",
        "])"
      ]
    },
    {
      "cell_type": "code",
      "execution_count": null,
      "metadata": {
        "id": "h15Xyrt-u6IV"
      },
      "outputs": [],
      "source": [
        "model.compile(optimizer='adam', loss='mse')"
      ]
    },
    {
      "cell_type": "markdown",
      "metadata": {
        "id": "IOnQGvW7wjl0"
      },
      "source": [
        "##Entrenamiento del Modelo"
      ]
    },
    {
      "cell_type": "code",
      "execution_count": null,
      "metadata": {
        "id": "I-tzqX4MzmBy"
      },
      "outputs": [],
      "source": [
        "early_stopping = EarlyStopping(monitor='loss', patience=5, restore_best_weights=True)"
      ]
    },
    {
      "cell_type": "code",
      "execution_count": null,
      "metadata": {
        "id": "CvYrKzMfu8Eq"
      },
      "outputs": [],
      "source": [
        "model.fit(X_train, y_train, epochs=100, batch_size=4, verbose=0, callbacks=[early_stopping])"
      ]
    },
    {
      "cell_type": "code",
      "execution_count": null,
      "metadata": {
        "id": "Mad624tavofW"
      },
      "outputs": [],
      "source": [
        "loss = model.evaluate(X_test, y_test, verbose=0)\n",
        "print(f\"Pérdida en el conjunto de prueba: {loss}\")"
      ]
    },
    {
      "cell_type": "markdown",
      "metadata": {
        "id": "JpN4hXJgwnjl"
      },
      "source": [
        "##Prueba de Predicción"
      ]
    },
    {
      "cell_type": "code",
      "execution_count": null,
      "metadata": {
        "colab": {
          "base_uri": "https://localhost:8080/",
          "height": 37
        },
        "id": "B_HZBdylvo7R",
        "outputId": "f122f599-25f7-42a4-9ded-a2b525ab884c"
      },
      "outputs": [
        {
          "data": {
            "text/html": [
              "\n",
              "     <input type=\"file\" id=\"files-38be4018-5eeb-4e53-81ce-55f344cada5a\" name=\"files[]\" multiple disabled\n",
              "        style=\"border:none\" />\n",
              "     <output id=\"result-38be4018-5eeb-4e53-81ce-55f344cada5a\">\n",
              "      Upload widget is only available when the cell has been executed in the\n",
              "      current browser session. Please rerun this cell to enable.\n",
              "      </output>\n",
              "      <script>// Copyright 2017 Google LLC\n",
              "//\n",
              "// Licensed under the Apache License, Version 2.0 (the \"License\");\n",
              "// you may not use this file except in compliance with the License.\n",
              "// You may obtain a copy of the License at\n",
              "//\n",
              "//      http://www.apache.org/licenses/LICENSE-2.0\n",
              "//\n",
              "// Unless required by applicable law or agreed to in writing, software\n",
              "// distributed under the License is distributed on an \"AS IS\" BASIS,\n",
              "// WITHOUT WARRANTIES OR CONDITIONS OF ANY KIND, either express or implied.\n",
              "// See the License for the specific language governing permissions and\n",
              "// limitations under the License.\n",
              "\n",
              "/**\n",
              " * @fileoverview Helpers for google.colab Python module.\n",
              " */\n",
              "(function(scope) {\n",
              "function span(text, styleAttributes = {}) {\n",
              "  const element = document.createElement('span');\n",
              "  element.textContent = text;\n",
              "  for (const key of Object.keys(styleAttributes)) {\n",
              "    element.style[key] = styleAttributes[key];\n",
              "  }\n",
              "  return element;\n",
              "}\n",
              "\n",
              "// Max number of bytes which will be uploaded at a time.\n",
              "const MAX_PAYLOAD_SIZE = 100 * 1024;\n",
              "\n",
              "function _uploadFiles(inputId, outputId) {\n",
              "  const steps = uploadFilesStep(inputId, outputId);\n",
              "  const outputElement = document.getElementById(outputId);\n",
              "  // Cache steps on the outputElement to make it available for the next call\n",
              "  // to uploadFilesContinue from Python.\n",
              "  outputElement.steps = steps;\n",
              "\n",
              "  return _uploadFilesContinue(outputId);\n",
              "}\n",
              "\n",
              "// This is roughly an async generator (not supported in the browser yet),\n",
              "// where there are multiple asynchronous steps and the Python side is going\n",
              "// to poll for completion of each step.\n",
              "// This uses a Promise to block the python side on completion of each step,\n",
              "// then passes the result of the previous step as the input to the next step.\n",
              "function _uploadFilesContinue(outputId) {\n",
              "  const outputElement = document.getElementById(outputId);\n",
              "  const steps = outputElement.steps;\n",
              "\n",
              "  const next = steps.next(outputElement.lastPromiseValue);\n",
              "  return Promise.resolve(next.value.promise).then((value) => {\n",
              "    // Cache the last promise value to make it available to the next\n",
              "    // step of the generator.\n",
              "    outputElement.lastPromiseValue = value;\n",
              "    return next.value.response;\n",
              "  });\n",
              "}\n",
              "\n",
              "/**\n",
              " * Generator function which is called between each async step of the upload\n",
              " * process.\n",
              " * @param {string} inputId Element ID of the input file picker element.\n",
              " * @param {string} outputId Element ID of the output display.\n",
              " * @return {!Iterable<!Object>} Iterable of next steps.\n",
              " */\n",
              "function* uploadFilesStep(inputId, outputId) {\n",
              "  const inputElement = document.getElementById(inputId);\n",
              "  inputElement.disabled = false;\n",
              "\n",
              "  const outputElement = document.getElementById(outputId);\n",
              "  outputElement.innerHTML = '';\n",
              "\n",
              "  const pickedPromise = new Promise((resolve) => {\n",
              "    inputElement.addEventListener('change', (e) => {\n",
              "      resolve(e.target.files);\n",
              "    });\n",
              "  });\n",
              "\n",
              "  const cancel = document.createElement('button');\n",
              "  inputElement.parentElement.appendChild(cancel);\n",
              "  cancel.textContent = 'Cancel upload';\n",
              "  const cancelPromise = new Promise((resolve) => {\n",
              "    cancel.onclick = () => {\n",
              "      resolve(null);\n",
              "    };\n",
              "  });\n",
              "\n",
              "  // Wait for the user to pick the files.\n",
              "  const files = yield {\n",
              "    promise: Promise.race([pickedPromise, cancelPromise]),\n",
              "    response: {\n",
              "      action: 'starting',\n",
              "    }\n",
              "  };\n",
              "\n",
              "  cancel.remove();\n",
              "\n",
              "  // Disable the input element since further picks are not allowed.\n",
              "  inputElement.disabled = true;\n",
              "\n",
              "  if (!files) {\n",
              "    return {\n",
              "      response: {\n",
              "        action: 'complete',\n",
              "      }\n",
              "    };\n",
              "  }\n",
              "\n",
              "  for (const file of files) {\n",
              "    const li = document.createElement('li');\n",
              "    li.append(span(file.name, {fontWeight: 'bold'}));\n",
              "    li.append(span(\n",
              "        `(${file.type || 'n/a'}) - ${file.size} bytes, ` +\n",
              "        `last modified: ${\n",
              "            file.lastModifiedDate ? file.lastModifiedDate.toLocaleDateString() :\n",
              "                                    'n/a'} - `));\n",
              "    const percent = span('0% done');\n",
              "    li.appendChild(percent);\n",
              "\n",
              "    outputElement.appendChild(li);\n",
              "\n",
              "    const fileDataPromise = new Promise((resolve) => {\n",
              "      const reader = new FileReader();\n",
              "      reader.onload = (e) => {\n",
              "        resolve(e.target.result);\n",
              "      };\n",
              "      reader.readAsArrayBuffer(file);\n",
              "    });\n",
              "    // Wait for the data to be ready.\n",
              "    let fileData = yield {\n",
              "      promise: fileDataPromise,\n",
              "      response: {\n",
              "        action: 'continue',\n",
              "      }\n",
              "    };\n",
              "\n",
              "    // Use a chunked sending to avoid message size limits. See b/62115660.\n",
              "    let position = 0;\n",
              "    do {\n",
              "      const length = Math.min(fileData.byteLength - position, MAX_PAYLOAD_SIZE);\n",
              "      const chunk = new Uint8Array(fileData, position, length);\n",
              "      position += length;\n",
              "\n",
              "      const base64 = btoa(String.fromCharCode.apply(null, chunk));\n",
              "      yield {\n",
              "        response: {\n",
              "          action: 'append',\n",
              "          file: file.name,\n",
              "          data: base64,\n",
              "        },\n",
              "      };\n",
              "\n",
              "      let percentDone = fileData.byteLength === 0 ?\n",
              "          100 :\n",
              "          Math.round((position / fileData.byteLength) * 100);\n",
              "      percent.textContent = `${percentDone}% done`;\n",
              "\n",
              "    } while (position < fileData.byteLength);\n",
              "  }\n",
              "\n",
              "  // All done.\n",
              "  yield {\n",
              "    response: {\n",
              "      action: 'complete',\n",
              "    }\n",
              "  };\n",
              "}\n",
              "\n",
              "scope.google = scope.google || {};\n",
              "scope.google.colab = scope.google.colab || {};\n",
              "scope.google.colab._files = {\n",
              "  _uploadFiles,\n",
              "  _uploadFilesContinue,\n",
              "};\n",
              "})(self);\n",
              "</script> "
            ],
            "text/plain": [
              "<IPython.core.display.HTML object>"
            ]
          },
          "metadata": {},
          "output_type": "display_data"
        }
      ],
      "source": [
        "uploaded = files.upload()\n",
        "test_data = pd.read_excel('notas_test.xlsx')\n",
        "\n",
        "caracteristicas_prediccion = test_data.values\n",
        "\n",
        "predicciones = model.predict(caracteristicas_prediccion)\n",
        "df_predicciones = pd.DataFrame(predicciones, columns=nombres_cursos)\n",
        "print(\"Predicciones:\")\n",
        "print(df_predicciones)"
      ]
    },
    {
      "cell_type": "code",
      "execution_count": null,
      "metadata": {
        "id": "JqwiVmo4f2Yu"
      },
      "outputs": [],
      "source": [
        "def clasificar_notas(nota):\n",
        "    if nota <= 10:\n",
        "        return 'Necesita mejorar significativamente'\n",
        "    elif nota <= 14:\n",
        "        return 'Necesita mejorar'\n",
        "    elif nota <= 18:\n",
        "        return 'Tiene un buen rendimiento'\n",
        "    else:\n",
        "        return 'Tiene un excelente rendimiento'\n",
        "\n",
        "df_predicciones_categorias = df_predicciones.applymap(clasificar_notas)\n",
        "\n",
        "print(\"Predicciones:\")\n",
        "print(df_predicciones_categorias)"
      ]
    },
    {
      "cell_type": "code",
      "execution_count": null,
      "metadata": {
        "id": "urzrUqXGiR7g"
      },
      "outputs": [],
      "source": [
        "categorias = df_predicciones_categorias.stack().value_counts()\n",
        "\n",
        "fig, ax = plt.subplots()\n",
        "ax.pie(categorias, labels=categorias.index, autopct='%1.1f%%', startangle=90)\n",
        "\n",
        "ax.axis('equal')\n",
        "plt.title('Categorías de Notas')\n",
        "plt.show()"
      ]
    },
    {
      "cell_type": "code",
      "execution_count": null,
      "metadata": {
        "id": "ewfkmhHpljMW"
      },
      "outputs": [],
      "source": [
        "limites_categorias = [0, 10, 14, 18, 20]\n",
        "etiquetas_categorias = ['Necesita apoyo urgente', 'Necesita mejorar', 'Necesita mejorar detalles', 'Tiene buen rendimiento']\n",
        "datos_categorias_por_curso = []\n",
        "\n",
        "for curso in df_predicciones.columns:\n",
        "    notas = df_predicciones[curso]\n",
        "    categorias = pd.cut(notas, bins=limites_categorias, labels=etiquetas_categorias)\n",
        "    datos_categorias = categorias.value_counts()\n",
        "    datos_categorias_por_curso.append(datos_categorias)\n",
        "\n",
        "datos_categorias_por_curso_filtrados = [datos[datos > 0] for datos in datos_categorias_por_curso]\n",
        "\n",
        "if len(datos_categorias_por_curso_filtrados) == 0:\n",
        "    print(\"No hay datos de categorías válidos para mostrar.\")\n",
        "else:\n",
        "    fig, axes = plt.subplots(nrows=len(datos_categorias_por_curso_filtrados), figsize=(8, 6*len(datos_categorias_por_curso_filtrados)))\n",
        "\n",
        "    for i, (curso, datos_categorias) in enumerate(zip(df_predicciones.columns, datos_categorias_por_curso_filtrados)):\n",
        "        ax = axes[i]\n",
        "        ax.pie(datos_categorias, labels=datos_categorias.index, autopct='%1.1f%%', startangle=90)\n",
        "        ax.set_title(curso)\n",
        "\n",
        "    plt.tight_layout()\n",
        "    plt.show()"
      ]
    },
    {
      "cell_type": "markdown",
      "metadata": {
        "id": "eyDJqx4IKP69"
      },
      "source": [
        "##Exportar Resultados"
      ]
    },
    {
      "cell_type": "code",
      "execution_count": null,
      "metadata": {
        "id": "x5aza1uQKSU8"
      },
      "outputs": [],
      "source": [
        "import xlsxwriter\n",
        "\n",
        "output_file = \"resultados.xlsx\"\n",
        "\n",
        "with pd.ExcelWriter(output_file, engine=\"xlsxwriter\") as writer:\n",
        "    df_predicciones.to_excel(writer, sheet_name=\"Predicciones\", index=False)\n",
        "    df_predicciones_categorias.to_excel(writer, sheet_name=\"Mejoras\", index=False)\n",
        "\n",
        "    workbook = writer.book\n",
        "    worksheet_predicciones = writer.sheets[\"Predicciones\"]\n",
        "\n",
        "    for i, col in enumerate(df_predicciones.columns):\n",
        "        column_width = max(df_predicciones[col].astype(str).map(len).max(), len(col)) + 2\n",
        "        worksheet_predicciones.set_column(i, i, column_width)\n",
        "\n",
        "    worksheet_predicciones_cat = writer.sheets[\"Mejoras\"]\n",
        "    for i, col in enumerate(df_predicciones_categorias.columns):\n",
        "        column_width = max(df_predicciones_categorias[col].astype(str).map(len).max(), len(col)) + 2\n",
        "        worksheet_predicciones_cat.set_column(i, i, column_width)\n",
        "\n",
        "\n",
        "files.download(output_file)"
      ]
    }
  ],
  "metadata": {
    "colab": {
      "provenance": [],
      "include_colab_link": true
    },
    "kernelspec": {
      "display_name": "Python 3",
      "name": "python3"
    },
    "language_info": {
      "name": "python"
    }
  },
  "nbformat": 4,
  "nbformat_minor": 0
}